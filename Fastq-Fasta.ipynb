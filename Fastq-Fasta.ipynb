{
 "cells": [
  {
   "cell_type": "markdown",
   "metadata": {},
   "source": [
    "# BERGAMINI FEDERICO 845646\n",
    "\n",
    "Convertitore da FASTQ a FASTA."
   ]
  },
  {
   "cell_type": "markdown",
   "metadata": {},
   "source": [
    "**get_quality_percentage(quality_pherd_string, quality_threshold)**\n",
    "    \n",
    "    Prende in input la sequenza di phred value relativi ad un record fastq e una soglia minimima.\n",
    "    Restituisce la percentuale di caratteri almeno pari alla soglia minima."
   ]
  },
  {
   "cell_type": "code",
   "execution_count": 1,
   "metadata": {},
   "outputs": [],
   "source": [
    "def get_quality_percentage(quality_pherd_string, quality_threshold):\n",
    "    return len([phred_value for phred_value in quality_pherd_string if phred_value >= quality_threshold]) / len(quality_pherd_string)"
   ]
  },
  {
   "cell_type": "markdown",
   "metadata": {},
   "source": [
    "**def get_trimming_interval(quality_string, quality_threshold):**\n",
    "\n",
    "    Prende in input la sequenza di phred value relativi ad un record fastq e una soglia minimima.\n",
    "    Restituisce il massimo intervallo di valori consecutivi almeno pari alla soglia."
   ]
  },
  {
   "cell_type": "code",
   "execution_count": 2,
   "metadata": {},
   "outputs": [],
   "source": [
    "def get_trimming_interval(quality_string, quality_threshold):\n",
    "    bool_list = [(phred_value >= quality_threshold) for phred_value in quality_string]\n",
    "    \n",
    "    start_list = []\n",
    "    for i in range(len(bool_list))[1:]:\n",
    "        if bool_list[i] == True and bool_list[i-1] == False:\n",
    "            start_list.append(i)\n",
    "        \n",
    "    if bool_list[0] == True:\n",
    "        start_list[:0] = [0]\n",
    "        \n",
    "    start_list[:0] = [1]\n",
    "    \n",
    "    end_list = []\n",
    "    for j in range(len(bool_list))[:-1]:\n",
    "        if bool_list[j] == True and bool_list[j+1] == False:\n",
    "            end_list.append(j)\n",
    "        \n",
    "    if bool_list[-1] == True:\n",
    "        end_list[len(bool_list):] = [len(bool_list)-1]\n",
    "        \n",
    "    end_list[:0] = [0]\n",
    "    \n",
    "    interval_lengths = [end_list[i]-start_list[i]+1 for i in range(len(start_list))]\n",
    "    \n",
    "    trimming_index = interval_lengths.index(max(interval_lengths))\n",
    "    interval_start = start_list[trimming_index]\n",
    "    interval_end = end_list[trimming_index]\n",
    "    \n",
    "    return [interval_start, interval_end + 1]"
   ]
  },
  {
   "cell_type": "markdown",
   "metadata": {},
   "source": [
    "Importo BioPython."
   ]
  },
  {
   "cell_type": "code",
   "execution_count": 3,
   "metadata": {},
   "outputs": [],
   "source": [
    "import Bio"
   ]
  },
  {
   "cell_type": "markdown",
   "metadata": {},
   "source": [
    "Importo SeqIO."
   ]
  },
  {
   "cell_type": "code",
   "execution_count": 4,
   "metadata": {},
   "outputs": [],
   "source": [
    "from Bio import SeqIO"
   ]
  },
  {
   "cell_type": "markdown",
   "metadata": {},
   "source": [
    "Inserimento dei parametri di input."
   ]
  },
  {
   "cell_type": "code",
   "execution_count": 5,
   "metadata": {},
   "outputs": [],
   "source": [
    "l1 = 20\n",
    "l2 = 40#200\n",
    "q1 = 35#20\n",
    "q2 = 40#60\n",
    "perc_p = 0.5#0.1"
   ]
  },
  {
   "cell_type": "markdown",
   "metadata": {},
   "source": [
    "Leggo il file FASTQ usando BioPython."
   ]
  },
  {
   "cell_type": "code",
   "execution_count": 6,
   "metadata": {},
   "outputs": [],
   "source": [
    "fastq_records = SeqIO.parse(\"input.fq\", \"fastq\")"
   ]
  },
  {
   "cell_type": "markdown",
   "metadata": {},
   "source": [
    "Estraggo i record."
   ]
  },
  {
   "cell_type": "code",
   "execution_count": 7,
   "metadata": {},
   "outputs": [],
   "source": [
    "fastq_record_list = list(fastq_records)"
   ]
  },
  {
   "cell_type": "markdown",
   "metadata": {},
   "source": [
    "Stampo i record."
   ]
  },
  {
   "cell_type": "code",
   "execution_count": 8,
   "metadata": {},
   "outputs": [
    {
     "data": {
      "text/plain": [
       "[SeqRecord(seq=Seq('TATGGAGGCCCAACTTCTTGTATTCACAGGTTCTGC'), id='HWUSI-EAS522:8:5:662:692#0/1', name='HWUSI-EAS522:8:5:662:692#0/1', description='HWUSI-EAS522:8:5:662:692#0/1', dbxrefs=[]),\n",
       " SeqRecord(seq=Seq('TCTGCCAACTTCTTATGGAGGCCTGTATTCACAGGT'), id='HWUSI-EAS522:8:5:662:693#0/1', name='HWUSI-EAS522:8:5:662:693#0/1', description='HWUSI-EAS522:8:5:662:693#0/1', dbxrefs=[]),\n",
       " SeqRecord(seq=Seq('TCTGCCAGAGGCCTGTATTCACAGGTACTTCTTATG'), id='HWUSI-EAS522:8:5:662:694#0/1', name='HWUSI-EAS522:8:5:662:694#0/1', description='HWUSI-EAS522:8:5:662:694#0/1', dbxrefs=[]),\n",
       " SeqRecord(seq=Seq('TCGCCTGTATTCACAGGTTGCCAACTTCTTATGGAG'), id='HWUSI-EAS522:8:5:662:695#0/1', name='HWUSI-EAS522:8:5:662:695#0/1', description='HWUSI-EAS522:8:5:662:695#0/1', dbxrefs=[])]"
      ]
     },
     "execution_count": 8,
     "metadata": {},
     "output_type": "execute_result"
    }
   ],
   "source": [
    "fastq_record_list"
   ]
  },
  {
   "cell_type": "markdown",
   "metadata": {},
   "source": [
    "Rimuovo i read di lunghezza non compresa tra l1 e l2"
   ]
  },
  {
   "cell_type": "code",
   "execution_count": 9,
   "metadata": {},
   "outputs": [],
   "source": [
    "fastq_record_list = [read for read in fastq_record_list if len(read.seq) < l2 and len(read.seq) > l1]"
   ]
  },
  {
   "cell_type": "code",
   "execution_count": 10,
   "metadata": {},
   "outputs": [
    {
     "data": {
      "text/plain": [
       "[SeqRecord(seq=Seq('TATGGAGGCCCAACTTCTTGTATTCACAGGTTCTGC'), id='HWUSI-EAS522:8:5:662:692#0/1', name='HWUSI-EAS522:8:5:662:692#0/1', description='HWUSI-EAS522:8:5:662:692#0/1', dbxrefs=[]),\n",
       " SeqRecord(seq=Seq('TCTGCCAACTTCTTATGGAGGCCTGTATTCACAGGT'), id='HWUSI-EAS522:8:5:662:693#0/1', name='HWUSI-EAS522:8:5:662:693#0/1', description='HWUSI-EAS522:8:5:662:693#0/1', dbxrefs=[]),\n",
       " SeqRecord(seq=Seq('TCTGCCAGAGGCCTGTATTCACAGGTACTTCTTATG'), id='HWUSI-EAS522:8:5:662:694#0/1', name='HWUSI-EAS522:8:5:662:694#0/1', description='HWUSI-EAS522:8:5:662:694#0/1', dbxrefs=[]),\n",
       " SeqRecord(seq=Seq('TCGCCTGTATTCACAGGTTGCCAACTTCTTATGGAG'), id='HWUSI-EAS522:8:5:662:695#0/1', name='HWUSI-EAS522:8:5:662:695#0/1', description='HWUSI-EAS522:8:5:662:695#0/1', dbxrefs=[])]"
      ]
     },
     "execution_count": 10,
     "metadata": {},
     "output_type": "execute_result"
    }
   ],
   "source": [
    "fastq_record_list"
   ]
  },
  {
   "cell_type": "markdown",
   "metadata": {},
   "source": [
    "Rimuovo i read con basi di qualità inferiore a q1"
   ]
  },
  {
   "cell_type": "code",
   "execution_count": 11,
   "metadata": {},
   "outputs": [],
   "source": [
    "fastq_record_list = [read for read in fastq_record_list if get_quality_percentage(read.letter_annotations['phred_quality'], q1) == 1]"
   ]
  },
  {
   "cell_type": "code",
   "execution_count": 12,
   "metadata": {},
   "outputs": [
    {
     "data": {
      "text/plain": [
       "[SeqRecord(seq=Seq('TATGGAGGCCCAACTTCTTGTATTCACAGGTTCTGC'), id='HWUSI-EAS522:8:5:662:692#0/1', name='HWUSI-EAS522:8:5:662:692#0/1', description='HWUSI-EAS522:8:5:662:692#0/1', dbxrefs=[]),\n",
       " SeqRecord(seq=Seq('TCTGCCAGAGGCCTGTATTCACAGGTACTTCTTATG'), id='HWUSI-EAS522:8:5:662:694#0/1', name='HWUSI-EAS522:8:5:662:694#0/1', description='HWUSI-EAS522:8:5:662:694#0/1', dbxrefs=[])]"
      ]
     },
     "execution_count": 12,
     "metadata": {},
     "output_type": "execute_result"
    }
   ],
   "source": [
    "fastq_record_list"
   ]
  },
  {
   "cell_type": "markdown",
   "metadata": {},
   "source": [
    "Rimuovo i record che non contengono una sottoregione almeno lunga p% della lunghezza del record con qualità almeno q2"
   ]
  },
  {
   "cell_type": "code",
   "execution_count": 13,
   "metadata": {},
   "outputs": [],
   "source": [
    "tmp = []\n",
    "for read in fastq_record_list:\n",
    "    trimming_interval = get_trimming_interval(read.letter_annotations['phred_quality'], q2)\n",
    "    if (trimming_interval[1] - trimming_interval[0]) >= (perc_p * len(read.seq)):\n",
    "        tmp.append(read);\n",
    "\n",
    "fastq_record_list = tmp;"
   ]
  },
  {
   "cell_type": "markdown",
   "metadata": {},
   "source": [
    "Completo l'header fasta prima della stampa aggiungendo le informazioni richieste."
   ]
  },
  {
   "cell_type": "code",
   "execution_count": 14,
   "metadata": {},
   "outputs": [],
   "source": [
    "for read in fastq_record_list:\n",
    "    phred_values = read.letter_annotations['phred_quality']\n",
    "    length = len(read.seq)\n",
    "    min_base_quality = min(phred_values)\n",
    "    min_q2_interval = get_trimming_interval(phred_values, q2)\n",
    "    medium_quality_q2 = sum(phred_values[min_q2_interval[0]: min_q2_interval[1]]) / length\n",
    "    read.description = \"length : \" + str(length) + \" min_base_quality : \" + str(min_base_quality) + \" start_end_min_q2 : \" + str(min_q2_interval) + \" medium_quality_q2 : \" + str(medium_quality_q2) "
   ]
  },
  {
   "cell_type": "markdown",
   "metadata": {},
   "source": [
    "Cambio formattazione in FASTA"
   ]
  },
  {
   "cell_type": "code",
   "execution_count": 15,
   "metadata": {},
   "outputs": [
    {
     "data": {
      "text/plain": [
       "['>HWUSI-EAS522:8:5:662:692#0/1 length : 36 min_base_quality : 48 start_end_min_q2 : [0, 36] medium_quality_q2 : 60.416666666666664\\nTATGGAGGCCCAACTTCTTGTATTCACAGGTTCTGC\\n',\n",
       " '>HWUSI-EAS522:8:5:662:694#0/1 length : 36 min_base_quality : 48 start_end_min_q2 : [0, 36] medium_quality_q2 : 65.75\\nTCTGCCAGAGGCCTGTATTCACAGGTACTTCTTATG\\n']"
      ]
     },
     "execution_count": 15,
     "metadata": {},
     "output_type": "execute_result"
    }
   ],
   "source": [
    "fasta_record_list = [read.format(\"fasta\") for read in fastq_record_list] \n",
    "fasta_record_list"
   ]
  },
  {
   "cell_type": "markdown",
   "metadata": {},
   "source": [
    "Stampo su file"
   ]
  },
  {
   "cell_type": "code",
   "execution_count": 16,
   "metadata": {},
   "outputs": [],
   "source": [
    "with open (\"output.fa\", \"w\") as output_file:\n",
    "    for read in fasta_record_list:\n",
    "        output_file.write(read)"
   ]
  }
 ],
 "metadata": {
  "kernelspec": {
   "display_name": "Python 3",
   "language": "python",
   "name": "python3"
  },
  "language_info": {
   "codemirror_mode": {
    "name": "ipython",
    "version": 3
   },
   "file_extension": ".py",
   "mimetype": "text/x-python",
   "name": "python",
   "nbconvert_exporter": "python",
   "pygments_lexer": "ipython3",
   "version": "3.8.3"
  }
 },
 "nbformat": 4,
 "nbformat_minor": 4
}
